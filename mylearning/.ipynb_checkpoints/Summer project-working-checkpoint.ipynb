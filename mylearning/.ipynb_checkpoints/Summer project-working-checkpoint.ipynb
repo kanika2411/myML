{
 "cells": [
  {
   "cell_type": "markdown",
   "metadata": {},
   "source": [
    "#                   TIME SERIES PROJECT"
   ]
  },
  {
   "cell_type": "markdown",
   "metadata": {},
   "source": [
    "## Problem Statement:\n",
    "\n",
    "Unicorn Investors wants to make an investment in a new form of transportation - JetRail. JetRail uses Jet propulsion technology to run rails and move people at a high speed! The investment would only make sense, if they can get more than 1 Million monthly users within next 18 months. In order to help Unicorn Ventures in their decision, we need to forecast the traffic on JetRail for the next 7 months. We are provided with traffic data of JetRail since inception in the test file."
   ]
  },
  {
   "cell_type": "markdown",
   "metadata": {},
   "source": [
    "### Now that we have the understanding of the problem statement, let’s look at the steps that we will follow to solve the problem at hand.\n",
    "\n",
    "#### **Table of Contents**\n",
    "\n",
    "**a) Understanding Data:**\n",
    "1. Hypothesis Generation\n",
    "2. Getting the system ready and loading the data\n",
    "3. Dataset Structure and Content\n",
    "4. Feature Extraction\n",
    "5. Exploratory Analysis\n",
    "\n",
    "**b) Forecasting using Multiple Modeling Techniques:**\n",
    "1. Splitting the data into training and validation part\n",
    "2. Modeling techniques\n",
    "3. Holt’s Linear Trend Model on daily time series\n",
    "4. Holt Winter’s Model on daily time series\n",
    "5. Introduction to ARIMA model\n",
    "6. Parameter tuning for ARIMA model\n",
    "7. SARIMAX model on daily time series"
   ]
  },
  {
   "cell_type": "markdown",
   "metadata": {},
   "source": [
    "### **(a) Understanding the data**"
   ]
  },
  {
   "cell_type": "markdown",
   "metadata": {},
   "source": [
    "### 1. HYPOTHESIS GENERATION\n",
    "\n",
    "We will start with the first step, i.e. **Hypothesis Generation**. Hypothesis Generation is the process of listing out all the possible factors that can affect the outcome.\n",
    "\n",
    "Hypothesis generation is done before having a look at the data in order to avoid any bias that may result after the observation.\n",
    "It helps us to point out the factors which might affect our dependent variable. Below are some of the hypotheses which I think can affect the passenger count(dependent variable for this time series problem) on the JetRail:\n",
    "\n",
    "1. There will be an increase in the traffic as the years pass by.\n",
    "   - Explanation - Population has a general upward trend with time, so I can expect more people to travel by JetRail. Also,                        generally companies expand their businesses over time leading to more customers travelling through JetRail.\n",
    "2. The traffic will be high from May to October.\n",
    "   - Explanation - Tourist visits generally increases during this time perion.\n",
    "3. Traffic on weekdays will be more as compared to weekends/holidays.\n",
    "   - Explanation - People will go to office on weekdays and hence the traffic will be more\n",
    "4. Traffic during the peak hours will be high.\n",
    "   - Explanation - People will travel to work, college.\n",
    "   \n",
    "We will try to validate each of these hypothesis based on the dataset. "
   ]
  },
  {
   "cell_type": "markdown",
   "metadata": {},
   "source": [
    "### 2. LOADING THE DATA\n"
   ]
  },
  {
   "cell_type": "code",
   "execution_count": 1,
   "metadata": {},
   "outputs": [],
   "source": [
    "import pandas as pd\n",
    "import numpy as np                #for mathematical calculations\n",
    "import matplotlib.pyplot as plt   #for plotting the graphs\n",
    "from datetime import datetime     #for datetime functions\n",
    "from pandas import Series\n",
    "%matplotlib inline\n",
    "import warnings                   #to ignore warnings\n",
    "warnings.filterwarnings(\"ignore\")"
   ]
  },
  {
   "cell_type": "markdown",
   "metadata": {},
   "source": [
    "#### Reading the test and train data:"
   ]
  },
  {
   "cell_type": "code",
   "execution_count": 2,
   "metadata": {},
   "outputs": [],
   "source": [
    "train=pd.read_csv(\"Train_SU63ISt.csv\")  #reading the csv files into dataframes\n",
    "test=pd.read_csv(\"Test_0qrQsBZ.csv\")"
   ]
  },
  {
   "cell_type": "markdown",
   "metadata": {},
   "source": [
    "Let’s make a copy of train and test data so that even if we do changes in these dataset we do not lose the original dataset."
   ]
  },
  {
   "cell_type": "code",
   "execution_count": 3,
   "metadata": {},
   "outputs": [],
   "source": [
    "test_original=test.copy()\n",
    "train_original=train.copy()"
   ]
  },
  {
   "cell_type": "markdown",
   "metadata": {},
   "source": [
    "### 3. DATASET STRUCTURE AND CONTENT"
   ]
  },
  {
   "cell_type": "code",
   "execution_count": 4,
   "metadata": {},
   "outputs": [
    {
     "data": {
      "text/plain": [
       "Index(['ID', 'Datetime', 'Count'], dtype='object')"
      ]
     },
     "execution_count": 4,
     "metadata": {},
     "output_type": "execute_result"
    }
   ],
   "source": [
    "train.columns"
   ]
  },
  {
   "cell_type": "code",
   "execution_count": 5,
   "metadata": {},
   "outputs": [
    {
     "data": {
      "text/plain": [
       "Index(['ID', 'Datetime'], dtype='object')"
      ]
     },
     "execution_count": 5,
     "metadata": {},
     "output_type": "execute_result"
    }
   ],
   "source": [
    "test.columns"
   ]
  },
  {
   "cell_type": "markdown",
   "metadata": {},
   "source": [
    "We have ID, Datetime and corresponding count of passengers in the train file. For test file we have ID and Datetime only so we have to predict the Count for test file.\n",
    "\n",
    "Let’s understand each feature first:\n",
    "\n",
    "- **ID** is the unique number given to each observation point.\n",
    "- **Datetime** is the time of each observation.\n",
    "- **Count** is the passenger count corresponding to each Datetime.\n",
    "\n",
    "Let’s look at the data types of each feature."
   ]
  },
  {
   "cell_type": "code",
   "execution_count": 6,
   "metadata": {},
   "outputs": [
    {
     "data": {
      "text/plain": [
       "ID           int64\n",
       "Datetime    object\n",
       "Count        int64\n",
       "dtype: object"
      ]
     },
     "execution_count": 6,
     "metadata": {},
     "output_type": "execute_result"
    }
   ],
   "source": [
    "train.dtypes"
   ]
  },
  {
   "cell_type": "code",
   "execution_count": 7,
   "metadata": {},
   "outputs": [
    {
     "data": {
      "text/plain": [
       "ID           int64\n",
       "Datetime    object\n",
       "dtype: object"
      ]
     },
     "execution_count": 7,
     "metadata": {},
     "output_type": "execute_result"
    }
   ],
   "source": [
    "test.dtypes"
   ]
  },
  {
   "cell_type": "markdown",
   "metadata": {},
   "source": [
    "- ID and Count are in integer format while the Datetime is in object format for the train file.\n",
    "- Id is in integer and Datetime is in object format for test file.\n",
    "\n",
    "Now we will see the shape of the dataset."
   ]
  },
  {
   "cell_type": "code",
   "execution_count": 8,
   "metadata": {},
   "outputs": [
    {
     "data": {
      "text/plain": [
       "((18288, 3), (5112, 2))"
      ]
     },
     "execution_count": 8,
     "metadata": {},
     "output_type": "execute_result"
    }
   ],
   "source": [
    "train.shape,test.shape"
   ]
  },
  {
   "cell_type": "markdown",
   "metadata": {},
   "source": [
    "We have 18288 different records for the Count of passengers in train set and 5112 in test set."
   ]
  },
  {
   "cell_type": "markdown",
   "metadata": {},
   "source": [
    "### 4. FEATURE EXTRACTION"
   ]
  },
  {
   "cell_type": "code",
   "execution_count": 9,
   "metadata": {},
   "outputs": [
    {
     "data": {
      "text/html": [
       "<div>\n",
       "<style scoped>\n",
       "    .dataframe tbody tr th:only-of-type {\n",
       "        vertical-align: middle;\n",
       "    }\n",
       "\n",
       "    .dataframe tbody tr th {\n",
       "        vertical-align: top;\n",
       "    }\n",
       "\n",
       "    .dataframe thead th {\n",
       "        text-align: right;\n",
       "    }\n",
       "</style>\n",
       "<table border=\"1\" class=\"dataframe\">\n",
       "  <thead>\n",
       "    <tr style=\"text-align: right;\">\n",
       "      <th></th>\n",
       "      <th>ID</th>\n",
       "      <th>Datetime</th>\n",
       "      <th>Count</th>\n",
       "    </tr>\n",
       "  </thead>\n",
       "  <tbody>\n",
       "    <tr>\n",
       "      <th>0</th>\n",
       "      <td>0</td>\n",
       "      <td>25-08-2012 00:00</td>\n",
       "      <td>8</td>\n",
       "    </tr>\n",
       "    <tr>\n",
       "      <th>1</th>\n",
       "      <td>1</td>\n",
       "      <td>25-08-2012 01:00</td>\n",
       "      <td>2</td>\n",
       "    </tr>\n",
       "    <tr>\n",
       "      <th>2</th>\n",
       "      <td>2</td>\n",
       "      <td>25-08-2012 02:00</td>\n",
       "      <td>6</td>\n",
       "    </tr>\n",
       "    <tr>\n",
       "      <th>3</th>\n",
       "      <td>3</td>\n",
       "      <td>25-08-2012 03:00</td>\n",
       "      <td>2</td>\n",
       "    </tr>\n",
       "    <tr>\n",
       "      <th>4</th>\n",
       "      <td>4</td>\n",
       "      <td>25-08-2012 04:00</td>\n",
       "      <td>2</td>\n",
       "    </tr>\n",
       "  </tbody>\n",
       "</table>\n",
       "</div>"
      ],
      "text/plain": [
       "   ID          Datetime  Count\n",
       "0   0  25-08-2012 00:00      8\n",
       "1   1  25-08-2012 01:00      2\n",
       "2   2  25-08-2012 02:00      6\n",
       "3   3  25-08-2012 03:00      2\n",
       "4   4  25-08-2012 04:00      2"
      ]
     },
     "execution_count": 9,
     "metadata": {},
     "output_type": "execute_result"
    }
   ],
   "source": [
    "train.head(5)"
   ]
  },
  {
   "cell_type": "markdown",
   "metadata": {},
   "source": [
    "Here we see that the 'Datetime' column has combined value of date along with the time. So we will extract the time and date from the Datetime. We have seen earlier that the data type of 'Datetime' is object. So first of all we have to change the data type to datetime format otherwise we can not extract features from it."
   ]
  },
  {
   "cell_type": "code",
   "execution_count": 10,
   "metadata": {},
   "outputs": [],
   "source": [
    "train['Datetime'] = pd.to_datetime(train.Datetime,format='%d-%m-%Y %H:%M')   #changing the format of the 'Datetime' column\n",
    "test['Datetime'] = pd.to_datetime(test.Datetime,format='%d-%m-%Y %H:%M') \n",
    "test_original['Datetime'] = pd.to_datetime(test_original.Datetime,format='%d-%m-%Y %H:%M')\n",
    "train_original['Datetime'] = pd.to_datetime(train_original.Datetime,format='%d-%m-%Y %H:%M')"
   ]
  },
  {
   "cell_type": "code",
   "execution_count": 11,
   "metadata": {},
   "outputs": [
    {
     "data": {
      "text/html": [
       "<div>\n",
       "<style scoped>\n",
       "    .dataframe tbody tr th:only-of-type {\n",
       "        vertical-align: middle;\n",
       "    }\n",
       "\n",
       "    .dataframe tbody tr th {\n",
       "        vertical-align: top;\n",
       "    }\n",
       "\n",
       "    .dataframe thead th {\n",
       "        text-align: right;\n",
       "    }\n",
       "</style>\n",
       "<table border=\"1\" class=\"dataframe\">\n",
       "  <thead>\n",
       "    <tr style=\"text-align: right;\">\n",
       "      <th></th>\n",
       "      <th>ID</th>\n",
       "      <th>Datetime</th>\n",
       "      <th>Count</th>\n",
       "    </tr>\n",
       "  </thead>\n",
       "  <tbody>\n",
       "    <tr>\n",
       "      <th>0</th>\n",
       "      <td>0</td>\n",
       "      <td>2012-08-25 00:00:00</td>\n",
       "      <td>8</td>\n",
       "    </tr>\n",
       "    <tr>\n",
       "      <th>1</th>\n",
       "      <td>1</td>\n",
       "      <td>2012-08-25 01:00:00</td>\n",
       "      <td>2</td>\n",
       "    </tr>\n",
       "    <tr>\n",
       "      <th>2</th>\n",
       "      <td>2</td>\n",
       "      <td>2012-08-25 02:00:00</td>\n",
       "      <td>6</td>\n",
       "    </tr>\n",
       "    <tr>\n",
       "      <th>3</th>\n",
       "      <td>3</td>\n",
       "      <td>2012-08-25 03:00:00</td>\n",
       "      <td>2</td>\n",
       "    </tr>\n",
       "    <tr>\n",
       "      <th>4</th>\n",
       "      <td>4</td>\n",
       "      <td>2012-08-25 04:00:00</td>\n",
       "      <td>2</td>\n",
       "    </tr>\n",
       "  </tbody>\n",
       "</table>\n",
       "</div>"
      ],
      "text/plain": [
       "   ID            Datetime  Count\n",
       "0   0 2012-08-25 00:00:00      8\n",
       "1   1 2012-08-25 01:00:00      2\n",
       "2   2 2012-08-25 02:00:00      6\n",
       "3   3 2012-08-25 03:00:00      2\n",
       "4   4 2012-08-25 04:00:00      2"
      ]
     },
     "execution_count": 11,
     "metadata": {},
     "output_type": "execute_result"
    }
   ],
   "source": [
    "train.head(5)"
   ]
  },
  {
   "cell_type": "markdown",
   "metadata": {},
   "source": [
    "We made some hypothesis for the effect of hour, day, month and year on the passenger count. So, let’s extract the year, month, day and hour from the Datetime to validate our hypothesis."
   ]
  },
  {
   "cell_type": "code",
   "execution_count": 12,
   "metadata": {},
   "outputs": [
    {
     "ename": "AttributeError",
     "evalue": "Can only use .dt accessor with datetimelike values",
     "output_type": "error",
     "traceback": [
      "\u001b[1;31m---------------------------------------------------------------------------\u001b[0m",
      "\u001b[1;31mAttributeError\u001b[0m                            Traceback (most recent call last)",
      "\u001b[1;32m<ipython-input-12-5dd3b2799350>\u001b[0m in \u001b[0;36m<module>\u001b[1;34m()\u001b[0m\n\u001b[0;32m      1\u001b[0m \u001b[1;32mfor\u001b[0m \u001b[0mi\u001b[0m \u001b[1;32min\u001b[0m \u001b[1;33m(\u001b[0m\u001b[0mtrain\u001b[0m\u001b[1;33m,\u001b[0m \u001b[0mtest\u001b[0m\u001b[1;33m,\u001b[0m \u001b[0mtest_original\u001b[0m\u001b[1;33m,\u001b[0m \u001b[0mtrain_original\u001b[0m\u001b[1;33m)\u001b[0m\u001b[1;33m:\u001b[0m    \u001b[1;31m#extracting year,month,day and hour from 'Datetime' column.\u001b[0m\u001b[1;33m\u001b[0m\u001b[0m\n\u001b[1;32m----> 2\u001b[1;33m     \u001b[0mi\u001b[0m\u001b[1;33m[\u001b[0m\u001b[1;34m'Year'\u001b[0m\u001b[1;33m]\u001b[0m\u001b[1;33m=\u001b[0m\u001b[0mi\u001b[0m\u001b[1;33m.\u001b[0m\u001b[0mDatetime\u001b[0m\u001b[1;33m.\u001b[0m\u001b[0mdt\u001b[0m\u001b[1;33m.\u001b[0m\u001b[0myear\u001b[0m\u001b[1;33m\u001b[0m\u001b[0m\n\u001b[0m\u001b[0;32m      3\u001b[0m     \u001b[0mi\u001b[0m\u001b[1;33m[\u001b[0m\u001b[1;34m'Month'\u001b[0m\u001b[1;33m]\u001b[0m\u001b[1;33m=\u001b[0m\u001b[0mi\u001b[0m\u001b[1;33m.\u001b[0m\u001b[0mDatetime\u001b[0m\u001b[1;33m.\u001b[0m\u001b[0mdt\u001b[0m\u001b[1;33m.\u001b[0m\u001b[0mmonth\u001b[0m\u001b[1;33m\u001b[0m\u001b[0m\n\u001b[0;32m      4\u001b[0m     \u001b[0mi\u001b[0m\u001b[1;33m[\u001b[0m\u001b[1;34m'Day'\u001b[0m\u001b[1;33m]\u001b[0m\u001b[1;33m=\u001b[0m\u001b[0mi\u001b[0m\u001b[1;33m.\u001b[0m\u001b[0mDatetime\u001b[0m\u001b[1;33m.\u001b[0m\u001b[0mdt\u001b[0m\u001b[1;33m.\u001b[0m\u001b[0mday\u001b[0m\u001b[1;33m\u001b[0m\u001b[0m\n\u001b[0;32m      5\u001b[0m     \u001b[0mi\u001b[0m\u001b[1;33m[\u001b[0m\u001b[1;34m'Hour'\u001b[0m\u001b[1;33m]\u001b[0m\u001b[1;33m=\u001b[0m\u001b[0mi\u001b[0m\u001b[1;33m.\u001b[0m\u001b[0mDatetime\u001b[0m\u001b[1;33m.\u001b[0m\u001b[0mdt\u001b[0m\u001b[1;33m.\u001b[0m\u001b[0mhour\u001b[0m\u001b[1;33m\u001b[0m\u001b[0m\n",
      "\u001b[1;32m~\\AppData\\Local\\Continuum\\anaconda3\\lib\\site-packages\\pandas\\core\\generic.py\u001b[0m in \u001b[0;36m__getattr__\u001b[1;34m(self, name)\u001b[0m\n\u001b[0;32m   4370\u001b[0m         if (name in self._internal_names_set or name in self._metadata or\n\u001b[0;32m   4371\u001b[0m                 name in self._accessors):\n\u001b[1;32m-> 4372\u001b[1;33m             \u001b[1;32mreturn\u001b[0m \u001b[0mobject\u001b[0m\u001b[1;33m.\u001b[0m\u001b[0m__getattribute__\u001b[0m\u001b[1;33m(\u001b[0m\u001b[0mself\u001b[0m\u001b[1;33m,\u001b[0m \u001b[0mname\u001b[0m\u001b[1;33m)\u001b[0m\u001b[1;33m\u001b[0m\u001b[0m\n\u001b[0m\u001b[0;32m   4373\u001b[0m         \u001b[1;32melse\u001b[0m\u001b[1;33m:\u001b[0m\u001b[1;33m\u001b[0m\u001b[0m\n\u001b[0;32m   4374\u001b[0m             \u001b[1;32mif\u001b[0m \u001b[0mself\u001b[0m\u001b[1;33m.\u001b[0m\u001b[0m_info_axis\u001b[0m\u001b[1;33m.\u001b[0m\u001b[0m_can_hold_identifiers_and_holds_name\u001b[0m\u001b[1;33m(\u001b[0m\u001b[0mname\u001b[0m\u001b[1;33m)\u001b[0m\u001b[1;33m:\u001b[0m\u001b[1;33m\u001b[0m\u001b[0m\n",
      "\u001b[1;32m~\\AppData\\Local\\Continuum\\anaconda3\\lib\\site-packages\\pandas\\core\\accessor.py\u001b[0m in \u001b[0;36m__get__\u001b[1;34m(self, obj, cls)\u001b[0m\n\u001b[0;32m    131\u001b[0m             \u001b[1;31m# we're accessing the attribute of the class, i.e., Dataset.geo\u001b[0m\u001b[1;33m\u001b[0m\u001b[1;33m\u001b[0m\u001b[0m\n\u001b[0;32m    132\u001b[0m             \u001b[1;32mreturn\u001b[0m \u001b[0mself\u001b[0m\u001b[1;33m.\u001b[0m\u001b[0m_accessor\u001b[0m\u001b[1;33m\u001b[0m\u001b[0m\n\u001b[1;32m--> 133\u001b[1;33m         \u001b[0maccessor_obj\u001b[0m \u001b[1;33m=\u001b[0m \u001b[0mself\u001b[0m\u001b[1;33m.\u001b[0m\u001b[0m_accessor\u001b[0m\u001b[1;33m(\u001b[0m\u001b[0mobj\u001b[0m\u001b[1;33m)\u001b[0m\u001b[1;33m\u001b[0m\u001b[0m\n\u001b[0m\u001b[0;32m    134\u001b[0m         \u001b[1;31m# Replace the property with the accessor object. Inspired by:\u001b[0m\u001b[1;33m\u001b[0m\u001b[1;33m\u001b[0m\u001b[0m\n\u001b[0;32m    135\u001b[0m         \u001b[1;31m# http://www.pydanny.com/cached-property.html\u001b[0m\u001b[1;33m\u001b[0m\u001b[1;33m\u001b[0m\u001b[0m\n",
      "\u001b[1;32m~\\AppData\\Local\\Continuum\\anaconda3\\lib\\site-packages\\pandas\\core\\indexes\\accessors.py\u001b[0m in \u001b[0;36m__new__\u001b[1;34m(cls, data)\u001b[0m\n\u001b[0;32m    323\u001b[0m             \u001b[1;32mpass\u001b[0m  \u001b[1;31m# we raise an attribute error anyway\u001b[0m\u001b[1;33m\u001b[0m\u001b[0m\n\u001b[0;32m    324\u001b[0m \u001b[1;33m\u001b[0m\u001b[0m\n\u001b[1;32m--> 325\u001b[1;33m         raise AttributeError(\"Can only use .dt accessor with datetimelike \"\n\u001b[0m\u001b[0;32m    326\u001b[0m                              \"values\")\n",
      "\u001b[1;31mAttributeError\u001b[0m: Can only use .dt accessor with datetimelike values"
     ]
    }
   ],
   "source": [
    "for i in (train, test, test_original, train_original):    #extracting year,month,day and hour from 'Datetime' column.\n",
    "    i['Year']=i.Datetime.dt.year \n",
    "    i['Month']=i.Datetime.dt.month \n",
    "    i['Day']=i.Datetime.dt.day\n",
    "    i['Hour']=i.Datetime.dt.hour"
   ]
  },
  {
   "cell_type": "code",
   "execution_count": null,
   "metadata": {},
   "outputs": [],
   "source": [
    "train.head()  #checking the modified dataframe i.e with added columns for year,month,day and hour."
   ]
  },
  {
   "cell_type": "markdown",
   "metadata": {},
   "source": [
    "Similarly all the datasets are modified with added columns \"Year\", \"Month\", \"Day\" and \"Hour\"."
   ]
  },
  {
   "cell_type": "markdown",
   "metadata": {},
   "source": [
    "We made a hypothesis for the traffic pattern on weekday and weekend as well. So, let’s make a weekend variable to visualize the impact of weekend on traffic.\n",
    "\n",
    "- We will first extract the day of week from Datetime and then based on the values we will assign whether the day is a weekend or not.(Using function dayofweek() in datetime module)\n",
    "- Values of 5 and 6 represents that the days are weekend.\n",
    "\n",
    "( 'dayofweek' function return the day of the week as an integer, where Monday is 0 and Sunday is 6.)\n"
   ]
  },
  {
   "cell_type": "code",
   "execution_count": null,
   "metadata": {},
   "outputs": [],
   "source": [
    "train['Day_of_week']=train['Datetime'].dt.dayofweek\n",
    "temp1=train['Datetime']"
   ]
  },
  {
   "cell_type": "code",
   "execution_count": null,
   "metadata": {},
   "outputs": [],
   "source": [
    "train.head()             #Day_of_week column shows the corresponding day starting from 0(Monday) to 6(Sunday)."
   ]
  },
  {
   "cell_type": "markdown",
   "metadata": {},
   "source": [
    "Let’s assign 1 if the day of week is a weekend and 0 if the day of week in not a weekend.\n",
    "Defining a function for this work."
   ]
  },
  {
   "cell_type": "code",
   "execution_count": null,
   "metadata": {},
   "outputs": [],
   "source": [
    "def check_weekend(row):                                                  #return 1 if weekend(5 and 6 i.e. Sat and Sun),else 0\n",
    "    if row.dayofweek ==5 or row.dayofweek==6:\n",
    "        return 1\n",
    "    else:\n",
    "        return 0"
   ]
  },
  {
   "cell_type": "markdown",
   "metadata": {},
   "source": [
    "Now applying this function on the train dataset."
   ]
  },
  {
   "cell_type": "code",
   "execution_count": null,
   "metadata": {},
   "outputs": [],
   "source": [
    "train['Weekend']=train['Datetime'].apply(check_weekend)\n"
   ]
  },
  {
   "cell_type": "code",
   "execution_count": null,
   "metadata": {},
   "outputs": [],
   "source": [
    "train.head()"
   ]
  },
  {
   "cell_type": "code",
   "execution_count": null,
   "metadata": {},
   "outputs": [],
   "source": [
    "train.index = train['Datetime'] # indexing the Datetime to get the time period on the x-axis.\n",
    "df=train.drop('ID',1)           # drop ID variable to get only the Datetime on x-axis.\n",
    "ts = df['Count']\n",
    "plt.figure(figsize=(16,8))\n",
    "plt.plot(ts, label='Passenger Count')\n",
    "plt.title('Time Series')\n",
    "plt.xlabel(\"Time(year-month)\")\n",
    "plt.ylabel(\"Passenger count\")\n",
    "plt.legend(loc='best')"
   ]
  },
  {
   "cell_type": "markdown",
   "metadata": {},
   "source": [
    "Here we can infer that there is an increasing trend in the series, i.e., the number of count is increasing with respect to time. We can also see that at certain points there is a sudden increase in the number of counts. The possible reason behind this could be that on particular day, due to some event the traffic was high.\n",
    "\n",
    "We will work on the train file for all the analysis and will use the test file for forecasting."
   ]
  },
  {
   "cell_type": "markdown",
   "metadata": {},
   "source": [
    "### 5. EXPLORATORY ANALYSIS"
   ]
  },
  {
   "cell_type": "markdown",
   "metadata": {},
   "source": [
    "Let us try to verify our hypothesis using the actual data.\n",
    "\n",
    "- **Our first hypothesis was \"traffic will increase as the years pass by**\". So let’s look at yearly passenger count."
   ]
  },
  {
   "cell_type": "code",
   "execution_count": null,
   "metadata": {},
   "outputs": [],
   "source": [
    "train.groupby('Year')['Count'].mean().plot.bar()"
   ]
  },
  {
   "cell_type": "markdown",
   "metadata": {},
   "source": [
    "We see an exponential growth in the traffic with respect to year which validates our hypothesis.\n",
    "\n",
    "- **Our second hypothesis was about increase in traffic from May to October.** So, let’s see the relation between count and month."
   ]
  },
  {
   "cell_type": "code",
   "execution_count": null,
   "metadata": {},
   "outputs": [],
   "source": [
    "train.groupby('Month')['Count'].mean().plot.bar()"
   ]
  },
  {
   "cell_type": "markdown",
   "metadata": {},
   "source": [
    "Here we see a decrease in the mean of passenger count in last three months. This does not look right. Let’s look at the monthly mean of each year separately."
   ]
  },
  {
   "cell_type": "code",
   "execution_count": null,
   "metadata": {},
   "outputs": [],
   "source": [
    "temp=train.groupby(['Year','Month'])['Count'].mean()   #ordering the train dataset according to year and month.\n"
   ]
  },
  {
   "cell_type": "code",
   "execution_count": null,
   "metadata": {},
   "outputs": [],
   "source": [
    "t1=temp.plot.bar()"
   ]
  },
  {
   "cell_type": "markdown",
   "metadata": {},
   "source": [
    "We can also see this increasing trend by visualizing the line graph as shown below."
   ]
  },
  {
   "cell_type": "code",
   "execution_count": null,
   "metadata": {},
   "outputs": [],
   "source": [
    "t2=temp.plot(figsize=(15,10),title='Passenger Count(Monthly in each year)',fontsize=14)"
   ]
  },
  {
   "cell_type": "markdown",
   "metadata": {},
   "source": [
    "In the above line plot we can see an increasing trend in monthly passenger count and the growth is approximately exponential.\n",
    "\n",
    "- Let’s look at the daily mean of passenger count."
   ]
  },
  {
   "cell_type": "code",
   "execution_count": null,
   "metadata": {},
   "outputs": [],
   "source": [
    "train.groupby('Day')['Count'].mean().plot.bar(figsize=(15,5),title='Passenger Count(Daywise)',cmap='coolwarm')"
   ]
  },
  {
   "cell_type": "markdown",
   "metadata": {},
   "source": [
    "We are not getting much insights from day wise count of the passengers.\n",
    "\n",
    "- We also made a hypothesis that the traffic will be more during peak hours. So let’s see the mean of hourly passenger count."
   ]
  },
  {
   "cell_type": "code",
   "execution_count": null,
   "metadata": {},
   "outputs": [],
   "source": [
    "train.groupby('Hour')['Count'].mean().plot.bar(figsize=(15,5),title='Passenger Count(Hourly)',cmap='rainbow')"
   ]
  },
  {
   "cell_type": "markdown",
   "metadata": {},
   "source": [
    "- It can be inferred that the peak traffic is at 7 PM and then we see a decreasing trend till 5 AM.\n",
    "- After that the passenger count starts increasing again and peaks again between 11AM and 12 Noon.\n",
    "\n",
    "\n",
    "\n",
    "\n",
    "**Let’s try to validate our hypothesis in which we assumed that the traffic will be more on weekdays.**"
   ]
  },
  {
   "cell_type": "code",
   "execution_count": null,
   "metadata": {},
   "outputs": [],
   "source": [
    "train.groupby('Weekend')['Count'].mean().plot.bar(figsize=(10,5),title='Passenger Count(On weekends and weekdays)',cmap='coolwarm')"
   ]
  },
  {
   "cell_type": "markdown",
   "metadata": {},
   "source": [
    "It can be inferred from the above plot that the traffic is more on weekdays as compared to weekends which validates our hypothesis.\n",
    "\n",
    "Now we will try to look at the day wise passenger count.\n",
    "\n",
    "**Note** - 0 is the starting of the week, i.e., 0 is Monday and 6 is Sunday."
   ]
  },
  {
   "cell_type": "code",
   "execution_count": null,
   "metadata": {},
   "outputs": [],
   "source": [
    "train.groupby('Day_of_week')['Count'].mean().plot.bar(figsize=(10,5),cmap='coolwarm')"
   ]
  },
  {
   "cell_type": "markdown",
   "metadata": {},
   "source": [
    "From the above bar plot, we can infer that the passenger count is less for saturday and sunday as compared to the other days of the week. \n",
    "Now we will look at basic modeling techniques. Before that we will drop the ID variable as it has nothing to do with the passenger count."
   ]
  },
  {
   "cell_type": "code",
   "execution_count": null,
   "metadata": {},
   "outputs": [],
   "source": [
    "train=train.drop('ID',axis=1)"
   ]
  },
  {
   "cell_type": "markdown",
   "metadata": {},
   "source": [
    "As we have seen that there is a lot of noise in the hourly time series, we will aggregate the hourly time series to daily, weekly, and monthly time series to reduce the noise and make it more stable and hence would be easier for a model to learn.\n"
   ]
  },
  {
   "cell_type": "code",
   "execution_count": null,
   "metadata": {},
   "outputs": [],
   "source": [
    "train.Timestamp=pd.to_datetime(train.Datetime,format='%d-%m-%y %H:%M')\n",
    "train.index=train.Timestamp   #to store axis labels as the time i.e x-axis will have 'time' as the label. \n",
    "\n",
    "#Resample method: Convenience method for frequency conversion and resampling of time series. \n",
    "#Object must have a datetime-like index .\n",
    "\n",
    "#Hourly time series\n",
    "hourly=train.resample('H').mean()\n",
    "\n",
    "#daily time series\n",
    "daily=train.resample('D').mean()\n",
    "\n",
    "#weekly time series\n",
    "weekly=train.resample('W').mean()\n",
    "\n",
    "#monthly time series\n",
    "monthly=train.resample('M').mean()\n"
   ]
  },
  {
   "cell_type": "markdown",
   "metadata": {},
   "source": [
    "Let’s look at the hourly, daily, weekly and monthly time series."
   ]
  },
  {
   "cell_type": "code",
   "execution_count": null,
   "metadata": {},
   "outputs": [],
   "source": [
    "fig, axs = plt.subplots(4,1)\n",
    "\n",
    "hourly.Count.plot(figsize=(15,18), title= 'Hourly', fontsize=14, ax=axs[0])\n",
    "daily.Count.plot(figsize=(15,13), title= 'Daily', fontsize=14, ax=axs[1])\n",
    "weekly.Count.plot(figsize=(15,13), title= 'Weekly', fontsize=14, ax=axs[2])\n",
    "monthly.Count.plot(figsize=(15,13), title= 'Monthly', fontsize=14, ax=axs[3])\n",
    "\n",
    "plt.show()"
   ]
  },
  {
   "cell_type": "markdown",
   "metadata": {},
   "source": [
    "We can see that the time series is becoming more and more stable when we are aggregating it on daily, weekly and monthly basis.\n",
    "\n",
    "But it would be difficult to convert the monthly and weekly predictions to hourly predictions, as first we have to convert the monthly predictions to weekly, weekly to daily and daily to hourly predictions, which will become very expanded process. So, we will work on the daily time series."
   ]
  },
  {
   "cell_type": "code",
   "execution_count": null,
   "metadata": {},
   "outputs": [],
   "source": [
    "#FOR 'TEST' DATASET:\n",
    "test.Timestamp = pd.to_datetime(test.Datetime,format='%d-%m-%Y %H:%M') \n",
    "test.index = test.Timestamp \n",
    "\n",
    "# Converting to daily mean\n",
    "test = test.resample('D').mean()\n",
    "\n",
    "#FOR 'TRAIN' DATASET\n",
    "train.Timestamp = pd.to_datetime(train.Datetime,format='%d-%m-%Y %H:%M') \n",
    "train.index = train.Timestamp\n",
    "\n",
    "# Converting to daily mean\n",
    "train = train.resample('D').mean()"
   ]
  },
  {
   "cell_type": "markdown",
   "metadata": {},
   "source": [
    "### **(b) Forecasting using Multiple Model Techniques:**"
   ]
  },
  {
   "cell_type": "markdown",
   "metadata": {},
   "source": [
    "### **1. SPLITTING THE DATA INTO TRAINING AND VALIDATION SETS:**"
   ]
  },
  {
   "cell_type": "markdown",
   "metadata": {},
   "source": [
    "As we have validated all our hypothesis, let’s go ahead and build models for Time Series Forecasting. But before we do that, we will need a dataset(validation) to check the performance and generalisation ability of our model. Below are some of the properties of the dataset required for the purpose.\n",
    "\n",
    "The dataset should have the true values of the dependent variable against which the predictions can be checked. Therefore, test dataset cannot be used for the purpose.\n",
    "\n",
    "The model should not be trained on the validation dataset. Hence, we cannot train the model on the train dataset and validate on it as well.\n",
    "\n",
    "So, for the above two reasons, we generally divide the train dataset into two parts. One part is used to train the model and the other part is used as the validation dataset. Now there are multiple ways to divide the train dataset such as Random Division etc.\n",
    "\n",
    "For this course, We will be using a time based split explained below."
   ]
  },
  {
   "cell_type": "markdown",
   "metadata": {},
   "source": [
    "Now we will divide our data in train and validation. We will make a model on the train part and predict on the validation part to check the accuracy of our predictions.\n",
    "\n",
    "To divide the data into training and validation set, we will take last 3 months as the validation data and rest for training data. We will take only 3 months as the trend will be the most in them. If we take more than 3 months for the validation set, our training set will have less data points as the total duration is of 25 months. So, it will be a good choice to take 3 months for validation set.\n",
    "\n",
    "The starting date of the dataset is 25-08-2012 as we have seen in the exploration part and the end date is 25-09-2014."
   ]
  },
  {
   "cell_type": "code",
   "execution_count": null,
   "metadata": {},
   "outputs": [],
   "source": [
    "Train=train.ix['2012-08-25':'2014-06-24']\n",
    "valid=train.ix['2014-06-25':'2014-09-24']   \n",
    "#.ix[] supports mixed integer and label based access.\n",
    "#It is primarily label based, but will fall back to integer positional access unless the corresponding axis is of integer type."
   ]
  },
  {
   "cell_type": "markdown",
   "metadata": {},
   "source": [
    "- We have done time based validation here by selecting the last 3 months for the validation data and rest in the train data. If we would have done it randomly it may work well for the train dataset but will not work effectively on validation dataset.\n",
    "\n",
    "- Lets understand it in this way: If we choose the split randomly it will take some values from the starting and some from the last years as well. It is similar to predicting the old values based on the future values which is not the case in real scenario. So, this kind of split is used while working with time related problems.\n",
    "\n",
    "Now we will look at how the train and validation part has been divided."
   ]
  },
  {
   "cell_type": "code",
   "execution_count": null,
   "metadata": {
    "scrolled": false
   },
   "outputs": [],
   "source": [
    "Train.Count.plot(figsize=(15,8), title= 'Daily Ridership', fontsize=14, label='train') #'Count' is the column name here.\n",
    "valid.Count.plot(figsize=(15,8), title= 'Daily Ridership', fontsize=14, label='valid')\n",
    "plt.xlabel(\"Datetime\")\n",
    "plt.ylabel(\"Passenger count\")\n",
    "plt.legend(loc='best')\n",
    "plt.show()"
   ]
  },
  {
   "cell_type": "markdown",
   "metadata": {},
   "source": [
    "Here the blue part represents the train data and the orange part represents the validation data.\n",
    "\n",
    "We will predict the traffic for the validation part and then visualize how accurate our predictions are. Finally we will make predictions for the test dataset."
   ]
  },
  {
   "cell_type": "markdown",
   "metadata": {},
   "source": [
    "### **2. MODELING TECHNIQUES:** \n",
    "\n",
    "We will look at various models now to forecast the time series . Methods which we will be discussing for the forecasting are:\n",
    "\n",
    "- i) Naive Approach \n",
    "- ii) Moving Average\n",
    "- iii) Simple Exponential Smoothing\n",
    "- iv) Holt’s Linear Trend Model\n",
    "\n",
    "We will discuss each of these methods in detail now.\n"
   ]
  },
  {
   "cell_type": "markdown",
   "metadata": {},
   "source": [
    "### **i) Naive Approach:**\n",
    "In this forecasting technique, we assume that the next expected point is equal to the last observed point. So we can expect a straight horizontal line as the prediction. Lets understand it with an example and an image:\n",
    "\n",
    "Suppose we have passenger count for 5 days as shown below:"
   ]
  },
  {
   "attachments": {
    "1.JPG": {
     "image/jpeg": "[encoded data removed]"
    }
   },
   "cell_type": "markdown",
   "metadata": {},
   "source": [
    "![1.JPG](attachment:1.JPG)"
   ]
  },
  {
   "cell_type": "markdown",
   "metadata": {},
   "source": [
    "And we have to predict the passenger count for next 2 days. Naive approach will assign the 5th day’s passenger count to the 6th and 7th day, i.e., 15 will be assigned to the 6th and 7th day."
   ]
  },
  {
   "attachments": {
    "2.JPG": {
     "image/jpeg": "[encoded data removed]"
    }
   },
   "cell_type": "markdown",
   "metadata": {},
   "source": [
    "![2.JPG](attachment:2.JPG)"
   ]
  },
  {
   "attachments": {
    "image.png": {
     "image/png": "[encoded data removed]"
    }
   },
   "cell_type": "markdown",
   "metadata": {},
   "source": [
    "![image.png](attachment:image.png)\n",
    "\n",
    "The blue line is the prediction here. All the predictions are equal to the last observed point.\n",
    "\n",
    "Let’s make predictions using naive approach for the validation set."
   ]
  },
  {
   "cell_type": "code",
   "execution_count": null,
   "metadata": {},
   "outputs": [],
   "source": [
    "Count_values=np.asarray(Train.Count)  #converts 'Count' column of 'Train' dataframe into an array\n",
    "y_hat=valid.copy()               #create a copy of 'valid' dataframe because now we have to predict values for 'valid' dataframe.\n",
    "y_hat['naive']=Count_values[len(Count_values)-1]   #to assign value of last day and take it as prediction for the next values following\n",
    "plt.figure(figsize=(15,10))\n",
    "plt.plot(Train.index,Train['Count'],label='Train')\n",
    "plt.plot(valid.index,valid['Count'],label='Valid')\n",
    "plt.plot(y_hat.index,y_hat['naive'],label='Naive forecast')\n",
    "plt.legend(loc='best')\n",
    "plt.title('NAIVE FORECAST')\n",
    "plt.show()"
   ]
  },
  {
   "cell_type": "markdown",
   "metadata": {},
   "source": [
    "We can calculate how accurate our predictions are using rmse(Root Mean Square Error).\n",
    "- rmse is the standard deviation of the residuals.\n",
    "- Residuals are a measure of how far from the regression line data points are.\n",
    "- The formula for rmse is:"
   ]
  },
  {
   "attachments": {
    "3.JPG": {
     "image/jpeg": "[encoded data removed]"
    }
   },
   "cell_type": "markdown",
   "metadata": {},
   "source": [
    "![3.JPG](attachment:3.JPG)"
   ]
  },
  {
   "cell_type": "markdown",
   "metadata": {},
   "source": [
    "We will now calculate RMSE to check the accuracy of our model on validation data set."
   ]
  },
  {
   "cell_type": "code",
   "execution_count": null,
   "metadata": {},
   "outputs": [],
   "source": [
    "from sklearn.metrics import mean_squared_error\n",
    "from math import sqrt\n",
    "rmse_naive=sqrt(mean_squared_error(valid.Count,y_hat.naive))  #root mean square value for naive approach.\n",
    "rmse_naive"
   ]
  },
  {
   "cell_type": "markdown",
   "metadata": {},
   "source": [
    "We can infer that this method is not suitable for datasets with high variability. We can reduce the rmse value by adopting different techniques."
   ]
  },
  {
   "attachments": {
    "image.png": {
     "image/png": "[encoded data removed]"
    }
   },
   "cell_type": "markdown",
   "metadata": {
    "collapsed": true
   },
   "source": [
    "### **ii) Moving Average:** \n",
    "In this technique we will take the average of the passenger counts for last few time periods only.\n",
    "\n",
    "Let’s take an example to understand it:\n",
    "\n",
    "![image.png](attachment:image.png)\n",
    "\n",
    "Here the predictions are made on the basis of the average of last few points instead of taking all the previously known values.\n",
    "\n",
    "Lets try the rolling mean for last 10, 20, 50 days and visualize the results.\n",
    "\n"
   ]
  },
  {
   "cell_type": "code",
   "execution_count": null,
   "metadata": {},
   "outputs": [],
   "source": [
    "#FOR LAST 10 OBSERVATIONS:\n",
    "y_hat_avg=valid.copy()\n",
    "y_hat_avg['Moving_average']=Train['Count'].rolling(10).mean().iloc[-1] #average of last 10 observations\n",
    "plt.figure(figsize=(15,5))\n",
    "plt.plot(Train.Count,label='Train')\n",
    "plt.plot(valid.Count,label='Valid')\n",
    "plt.plot(y_hat_avg.Moving_average,label='Moving average for last 10 observations')\n",
    "plt.title('MOVING AVERAGE FORECAST FOR LAST 10 OBSERVATIONS')\n",
    "plt.xlabel('Year-Month')\n",
    "plt.ylabel('Passenger Count')\n",
    "plt.legend(loc='best')\n",
    "\n",
    "#FOR LAST 20 OBSERVATIONS:\n",
    "y_hat_avg=valid.copy()\n",
    "y_hat_avg['Moving_average']=Train['Count'].rolling(20).mean().iloc[-1] #average of last 10 observations\n",
    "plt.figure(figsize=(15,5))\n",
    "plt.plot(Train.Count,label='Train')\n",
    "plt.plot(valid.Count,label='Valid')\n",
    "plt.plot(y_hat_avg.Moving_average,label='Moving average for 20 observations')\n",
    "plt.title('MOVING AVERAGE FORECAST FOR LAST 20 OBSERVATIONS')\n",
    "plt.xlabel('Year-Month')\n",
    "plt.ylabel('Passenger Count')\n",
    "plt.legend(loc='best')\n",
    "\n",
    "#FOR LAST 50 OBSERVATIONS:\n",
    "y_hat_avg=valid.copy()\n",
    "y_hat_avg['Moving_average']=Train['Count'].rolling(50).mean().iloc[-1] #average of last 10 observations\n",
    "plt.figure(figsize=(15,5))\n",
    "plt.plot(Train.Count,label='Train')\n",
    "plt.plot(valid.Count,label='Valid')\n",
    "plt.plot(y_hat_avg.Moving_average,label='Moving average for 50 observations')\n",
    "plt.title('MOVING AVERAGE FORECAST FOR LAST 10 OBSERVATIONS')\n",
    "plt.xlabel('Year-Month')\n",
    "plt.ylabel('Passenger Count')\n",
    "plt.legend(loc='best')"
   ]
  },
  {
   "cell_type": "markdown",
   "metadata": {},
   "source": [
    "We took the average of last 10, 20 and 50 observations and predicted based on that. This value can be changed in the above code in .rolling().mean() part. We can see that the predictions are getting weaker as we increase the number of observations."
   ]
  },
  {
   "cell_type": "code",
   "execution_count": null,
   "metadata": {},
   "outputs": [],
   "source": [
    "#Again checking the root mean square for moving average method:\n",
    "rmse_mov_avg=sqrt(mean_squared_error(valid.Count,y_hat_avg.Moving_average))\n",
    "rmse_mov_avg"
   ]
  },
  {
   "cell_type": "markdown",
   "metadata": {},
   "source": [
    "### **iii) Simple Exponential Smoothing:** \n",
    "In this technique, we assign larger weights to more recent observations than to observations from the distant past.The weights decrease exponentially as observations come from further in the past, the smallest weights are associated with the oldest observations.\n",
    "\n",
    "NOTE - If we give the entire weight to the last observed value only, this method will be similar to the naive approach. So, we can say that naive approach is also a simple exponential smoothing technique where the entire weight is given to the last observed value."
   ]
  },
  {
   "cell_type": "code",
   "execution_count": null,
   "metadata": {},
   "outputs": [],
   "source": [
    "from statsmodels.tsa.api import SimpleExpSmoothing,ExponentialSmoothing,Holt    #for statistical modeling\n",
    "\n",
    "#statsmodels.tsa contains model classes and functions that are useful for time series analysis."
   ]
  },
  {
   "cell_type": "code",
   "execution_count": null,
   "metadata": {},
   "outputs": [],
   "source": [
    "y_hat_ses = valid.copy()    #dataframe for simple exponential smoothing\n",
    "fit2 = SimpleExpSmoothing(np.asarray(Train['Count'])).fit(smoothing_level=0.6,optimized=False)\n",
    "y_hat_ses['SES'] = fit2.forecast(len(valid))\n",
    "plt.figure(figsize=(16,8))\n",
    "plt.plot(Train['Count'], label='Train')\n",
    "plt.plot(valid['Count'], label='Valid')\n",
    "plt.plot(y_hat_ses['SES'], label='SES')\n",
    "plt.legend(loc='best')\n",
    "plt.show()"
   ]
  },
  {
   "cell_type": "code",
   "execution_count": null,
   "metadata": {},
   "outputs": [],
   "source": [
    "#Calculating rmse value for Simple Exponential Smoothing method:\n",
    "rmse_ses=sqrt(mean_squared_error(valid.Count,y_hat_ses.SES))\n",
    "rmse_ses"
   ]
  },
  {
   "cell_type": "markdown",
   "metadata": {},
   "source": [
    "We can infer that the fit of the model has improved as the rmse value has reduced."
   ]
  },
  {
   "cell_type": "markdown",
   "metadata": {},
   "source": [
    "### **iv) Holt’s Linear Trend Model:**\n",
    "It is an extension of simple exponential smoothing to allow forecasting of data with a trend.\n",
    "This method takes into account the trend of the dataset. The forecast function in this method is a function of level and trend.\n",
    "First of all let us visualize the trend, seasonality and error in the series.\n",
    "\n",
    "We can decompose the time series in four parts.\n",
    "\n",
    "- Observed, which is the original time series.\n",
    "- Trend, which shows the trend in the time series, i.e., increasing or decreasing behaviour of the time series.\n",
    "- Seasonal, which tells us about the seasonality in the time series.\n",
    "- Residual, which is obtained by removing any trend or seasonality in the time series.\n",
    "\n",
    "Lets visualize all these parts."
   ]
  },
  {
   "cell_type": "code",
   "execution_count": null,
   "metadata": {},
   "outputs": [],
   "source": [
    "import statsmodels.api as sm\n",
    "sm.tsa.seasonal_decompose(Train.Count).plot()\n",
    "\n",
    "#When the trend increases or decreases linearly, additive equation is used whereas when the trend increases or decreases\n",
    "#exponentially, multiplicative equation is used.\n",
    "\n",
    "result=sm.tsa.stattools.adfuller(Train.Count)\n",
    "plt.show()"
   ]
  },
  {
   "cell_type": "markdown",
   "metadata": {},
   "source": [
    "An increasing trend can be seen in the dataset, so now we will make a model based on the trend."
   ]
  },
  {
   "cell_type": "code",
   "execution_count": null,
   "metadata": {},
   "outputs": [],
   "source": [
    "y_hat_avg = valid.copy()\n",
    "\n",
    "fit1 = Holt(np.asarray(Train['Count'])).fit(smoothing_level = 0.3,smoothing_slope = 0.1)\n",
    "y_hat_avg['Holt_linear'] = fit1.forecast(len(valid))\n",
    "\n",
    "plt.figure(figsize=(16,8))\n",
    "plt.plot(Train['Count'], label='Train')\n",
    "plt.plot(valid['Count'], label='Valid')\n",
    "plt.plot(y_hat_avg['Holt_linear'], label='Holt_linear')\n",
    "plt.legend(loc='best')\n",
    "plt.show()"
   ]
  },
  {
   "cell_type": "markdown",
   "metadata": {},
   "source": [
    "We can see an inclined line here as the model has taken into consideration the trend of the time series.\n",
    "\n",
    "Let’s calculate the rmse of the model."
   ]
  },
  {
   "cell_type": "code",
   "execution_count": null,
   "metadata": {},
   "outputs": [],
   "source": [
    "rms = sqrt(mean_squared_error(valid.Count, y_hat_avg.Holt_linear))\n",
    "print(rms)"
   ]
  },
  {
   "cell_type": "markdown",
   "metadata": {},
   "source": [
    "Now we will be predicting the passenger count for the test dataset using various models."
   ]
  },
  {
   "cell_type": "markdown",
   "metadata": {},
   "source": [
    "### 3. HOLT'S LINEAR TREND MODEL ON DAILY TIME SERIES:\n",
    "Now let’s try to make holt’s linear trend model on the daily time series and make predictions on the test dataset.\n",
    "We will make predictions based on the daily time series and then will distribute that daily prediction to hourly predictions.\n",
    "We have fitted the holt’s linear trend model on the train dataset and validated it using validation dataset.\n",
    "Now let’s load the submission file."
   ]
  },
  {
   "cell_type": "code",
   "execution_count": null,
   "metadata": {},
   "outputs": [],
   "source": [
    "submission=pd.read_csv('Sample_Submission_QChS6c3.csv')"
   ]
  },
  {
   "cell_type": "markdown",
   "metadata": {},
   "source": [
    "We only need ID and corresponding Count for the final submission.\n",
    "\n",
    "Let’s make prediction for the test dataset."
   ]
  },
  {
   "cell_type": "code",
   "execution_count": null,
   "metadata": {},
   "outputs": [],
   "source": [
    "predict=fit1.forecast(len(test))   #using fit1(holt's linear trend model) dataframe for forecasting values of test file."
   ]
  },
  {
   "cell_type": "markdown",
   "metadata": {},
   "source": [
    "Let’s save these predictions in test file in a new column."
   ]
  },
  {
   "cell_type": "code",
   "execution_count": null,
   "metadata": {},
   "outputs": [],
   "source": [
    "test['prediction']=predict"
   ]
  },
  {
   "cell_type": "markdown",
   "metadata": {},
   "source": [
    "Remember this is the daily predictions. We have to convert these predictions to hourly basis. \n",
    "* To do so we will first calculate the ratio of passenger count for each hour of every day. \n",
    "* Then we will find the average ratio of passenger count for every hour and we will get 24 ratios. \n",
    "* Then to calculate the hourly predictions we will multiply the daily prediction with the hourly ratio."
   ]
  },
  {
   "cell_type": "code",
   "execution_count": null,
   "metadata": {},
   "outputs": [],
   "source": [
    "# Calculating the hourly ratio of count (ratio of passenger count for each hour given in table for each day.)\n",
    "train_original['ratio']=train_original['Count']/train_original['Count'].sum()\n",
    "train_original.head(5)"
   ]
  },
  {
   "cell_type": "code",
   "execution_count": null,
   "metadata": {},
   "outputs": [],
   "source": [
    "# Grouping the hourly ratio  (grouping hourly ratio of passenger count by suming the ratios of each hour,will get 24 ratios now.)\n",
    "temp=train_original.groupby(['Hour'])['ratio'].sum()\n",
    "temp"
   ]
  },
  {
   "cell_type": "code",
   "execution_count": null,
   "metadata": {},
   "outputs": [],
   "source": [
    "# Groupby to csv format\n",
    "pd.DataFrame(temp, columns=['ratio']).to_csv('GROUPby.csv') #given only one column here as the 'Hour' column is already in temp.\n",
    "temp2=pd.read_csv(\"GROUPby.csv\")"
   ]
  },
  {
   "cell_type": "code",
   "execution_count": null,
   "metadata": {},
   "outputs": [],
   "source": [
    "#showing some rows of 'test' dataframe\n",
    "test.head(5)"
   ]
  },
  {
   "cell_type": "code",
   "execution_count": null,
   "metadata": {},
   "outputs": [],
   "source": [
    "#showing some rows of 'test_original' dataframe\n",
    "test_original.head(5)"
   ]
  },
  {
   "cell_type": "markdown",
   "metadata": {},
   "source": [
    "test_original doesn't have prediction column whereas 'test' have prediction column. So merging test and test_original."
   ]
  },
  {
   "cell_type": "code",
   "execution_count": null,
   "metadata": {},
   "outputs": [],
   "source": [
    "# Merge Test and test_original on day, month and year\n",
    "merge=pd.merge(test, test_original, on=('Day','Month', 'Year'), how='left')\n",
    "merge.head()\n"
   ]
  },
  {
   "cell_type": "code",
   "execution_count": null,
   "metadata": {},
   "outputs": [],
   "source": [
    "#Now removing unnecessary columns from the merged table.\n",
    "merge['Hour']=merge['Hour_y']\n",
    "merge=merge.drop(['Year', 'Month', 'Datetime','Hour_x','Hour_y'], axis=1)\n",
    "\n",
    "#  Predicting by merging merge and temp2\n",
    "prediction=pd.merge(merge, temp2, on='Hour', how='left')\n",
    "\n",
    "# Converting the ratio to the original scale\n",
    "prediction['Count']=prediction['prediction']*prediction['ratio']*24\n",
    "prediction['ID']=prediction['ID_y']\n"
   ]
  },
  {
   "cell_type": "markdown",
   "metadata": {},
   "source": [
    "Let’s drop all other features from the submission file and keep ID and Count only.\n",
    "\n"
   ]
  },
  {
   "cell_type": "code",
   "execution_count": null,
   "metadata": {},
   "outputs": [],
   "source": [
    "submission=prediction.drop(['ID_x', 'Day', 'ID_y','prediction','Hour', 'ratio'],axis=1)\n",
    "\n",
    "# Converting the final submission to csv format\n",
    "pd.DataFrame(submission, columns=['ID','Count']).to_csv('Holt linear.csv')"
   ]
  },
  {
   "cell_type": "markdown",
   "metadata": {},
   "source": [
    "Now let’s look at how well the Holt winters model predict the passenger counts for test dataset."
   ]
  },
  {
   "cell_type": "markdown",
   "metadata": {},
   "source": [
    "### 4. HOLT WINTER'S MODEL ON DAILY TIME SERIES:\n",
    "- Datasets which show a similar set of pattern after fixed intervals of a time period suffer from seasonality.\n",
    "\n",
    "- The above mentioned models don’t take into account the seasonality of the dataset while forecasting. Hence we need a method that takes into account both trend and seasonality to forecast future prices.\n",
    "\n",
    "- One such algorithm that we can use in such a scenario is Holt’s Winter method. The idea behind Holt’s Winter is to apply exponential smoothing to the seasonal components in addition to level and trend.\n",
    "\n",
    "Let’s first fit the model on training dataset and validate it using the validation dataset."
   ]
  },
  {
   "cell_type": "code",
   "execution_count": null,
   "metadata": {},
   "outputs": [],
   "source": [
    "y_hat_avg = valid.copy()\n",
    "fit1 = ExponentialSmoothing(np.asarray(Train['Count']) ,seasonal_periods=7 ,trend='add', seasonal='add',).fit()\n",
    "y_hat_avg['Holt_Winter'] = fit1.forecast(len(valid))\n",
    "plt.figure(figsize=(16,8))\n",
    "plt.plot( Train['Count'], label='Train')\n",
    "plt.plot(valid['Count'], label='Valid')\n",
    "plt.plot(y_hat_avg['Holt_Winter'], label='Holt_Winter')\n",
    "plt.legend(loc='best')\n",
    "plt.show()"
   ]
  },
  {
   "cell_type": "code",
   "execution_count": null,
   "metadata": {},
   "outputs": [],
   "source": [
    "#Root mean square value for holt winter method:\n",
    "rms = sqrt(mean_squared_error(valid.Count, y_hat_avg.Holt_Winter))\n",
    "print(rms)"
   ]
  },
  {
   "cell_type": "markdown",
   "metadata": {},
   "source": [
    "We can see that the rmse value has reduced a lot from this method. Let’s forecast the Counts for the entire length of the Test dataset."
   ]
  },
  {
   "cell_type": "code",
   "execution_count": null,
   "metadata": {},
   "outputs": [],
   "source": [
    "predict=fit1.forecast(len(test))   #gives predicted count of passenger in form of arrays. "
   ]
  },
  {
   "cell_type": "markdown",
   "metadata": {},
   "source": [
    "Now we will convert these daily passenger count into hourly passenger count using the same approach which we followed above."
   ]
  },
  {
   "cell_type": "code",
   "execution_count": null,
   "metadata": {},
   "outputs": [],
   "source": [
    "test['prediction']=predict"
   ]
  },
  {
   "cell_type": "code",
   "execution_count": null,
   "metadata": {},
   "outputs": [],
   "source": [
    "# Merge Test and test_original on day, month and year\n",
    "merge=pd.merge(test, test_original, on=('Day','Month', 'Year'), how='left')\n",
    "merge['Hour']=merge['Hour_y']\n",
    "merge=merge.drop(['Year', 'Month', 'Datetime','Hour_x','Hour_y'], axis=1)\n",
    "\n",
    "# Predicting by merging merge and temp2\n",
    "prediction=pd.merge(merge, temp2, on='Hour', how='left')\n",
    "\n",
    "# Converting the ratio to the original scale\n",
    "prediction['Count']=prediction['prediction']*prediction['ratio']*24"
   ]
  },
  {
   "cell_type": "markdown",
   "metadata": {},
   "source": [
    "Let’s drop all features other than ID and Count."
   ]
  },
  {
   "cell_type": "code",
   "execution_count": null,
   "metadata": {},
   "outputs": [],
   "source": [
    "prediction['ID']=prediction['ID_y']\n",
    "submission=prediction.drop(['Day','Hour','ratio','prediction', 'ID_x', 'ID_y'],axis=1)\n",
    "\n",
    "# Converting the final submission to csv format\n",
    "pd.DataFrame(submission, columns=['ID','Count']).to_csv('Holt winters.csv')\n"
   ]
  },
  {
   "cell_type": "markdown",
   "metadata": {},
   "source": [
    "Till now we have made different models for trend and seasonality. Can’t we make a model which will consider both the trend and seasonality of the time series?\n",
    "\n",
    "Yes we can. We will look at the ARIMA model for time series forecasting."
   ]
  },
  {
   "cell_type": "markdown",
   "metadata": {},
   "source": [
    "### 5. INTRODUCTION TO ARIMA MODEL:\n",
    "ARIMA stands for Auto Regression Integrated Moving Average. It is specified by three ordered parameters (p,d,q).\n",
    "\n",
    "Here,\n",
    "- p is the order of the autoregressive model(number of time lags)\n",
    "- d is the degree of differencing(number of times the data have had past values subtracted)\n",
    "- q is the order of moving average model. We will discuss more about these parameters in next section.\n",
    "\n",
    "The ARIMA forecasting for a stationary time series is nothing but a linear (like a linear regression) equation.\n",
    "\n",
    "**What is a stationary time series?**\n",
    "\n",
    "There are three basic criterion for a series to be classified as stationary series :\n",
    "\n",
    "- The mean of the time series should not be a function of time. It should be constant.\n",
    "- The variance of the time series should not be a function of time.\n",
    "- THe covariance of the ith term and the (i+m)th term should not be a function of time.\n",
    "\n",
    "**Why do we have to make the time series stationary?**\n",
    "\n",
    "We make the series stationary to make the variables independent. Variables can be dependent in various ways, but can only be independent in one way. So, we will get more information when they are independent. Hence the time series must be stationary.\n",
    "\n",
    "If the time series is not stationary, firstly we have to make it stationary. For doing so, we need to remove the trend and seasonality from the data."
   ]
  },
  {
   "cell_type": "markdown",
   "metadata": {},
   "source": [
    "### 6. PARAMETER TUNING FOR ARIMA MODEL:\n",
    "\n",
    "First of all we have to make sure that the time series is stationary. If the series is not stationary, we will make it stationary.\n",
    "\n",
    "**Stationarity Check:**\n",
    "- We use Dickey Fuller test to check the stationarity of the series.\n",
    "- The intuition behind this test is that it determines how strongly a time series is defined by a trend.\n",
    "- The null hypothesis of the test is that time series is not stationary (has some time-dependent structure).\n",
    "- The alternate hypothesis (rejecting the null hypothesis) is that the time series is stationary.\n",
    "\n",
    "The test results comprise of a Test Statistic and some Critical Values for difference confidence levels. If the ‘Test Statistic’ is less than the ‘Critical Value’, we can reject the null hypothesis and say that the series is stationary.\n",
    "\n",
    "We interpret this result using the Test Statistics and critical value. If the Test Statistics is smaller than critical value, it suggests we reject the null hypothesis (stationary), otherwise a greater Test Statistics suggests we accept the null hypothesis (non-stationary).\n",
    "\n",
    "Let’s make a function which we can use to calculate the results of Dickey-Fuller test."
   ]
  },
  {
   "cell_type": "code",
   "execution_count": null,
   "metadata": {},
   "outputs": [],
   "source": [
    "from statsmodels.tsa.stattools import adfuller\n",
    "def test_stationarity(timeseries):\n",
    "    \n",
    "    #Determing rolling statistics\n",
    "    rolmean = pd.core.window.Rolling(timeseries, window=24).mean() # 24 hours on each day\n",
    "    rolstd = pd.core.window.Rolling(timeseries, window=24).mean()\n",
    "    \n",
    "    #Plot rolling statistics:\n",
    "    orig = plt.plot(timeseries, color='blue',label='Original')\n",
    "    mean = plt.plot(rolmean, color='red', label='Rolling Mean')\n",
    "    std = plt.plot(rolstd, color='black', label = 'Rolling Std')\n",
    "    plt.legend(loc='best')\n",
    "    plt.title('Rolling Mean & Standard Deviation')\n",
    "    plt.show(block=False)\n",
    "    \n",
    "    #Perform Dickey-Fuller test:\n",
    "    print ('Results of Dickey-Fuller Test:')\n",
    "    dftest = adfuller(timeseries, autolag='AIC')\n",
    "    dfoutput = pd.Series(dftest[0:4], index=['Test Statistic','p-value','#Lags Used','Number of Observations Used'])\n",
    "    for key,value in dftest[4].items():\n",
    "        dfoutput['Critical Value (%s)'%key] = value\n",
    "    print (dfoutput)"
   ]
  },
  {
   "cell_type": "code",
   "execution_count": null,
   "metadata": {},
   "outputs": [],
   "source": [
    "from matplotlib.pylab import rcParams\n",
    "rcParams['figure.figsize'] = 20,10"
   ]
  },
  {
   "cell_type": "code",
   "execution_count": null,
   "metadata": {},
   "outputs": [],
   "source": [
    "test_stationarity(train_original['Count']) #CALLING THE FUNCTION"
   ]
  },
  {
   "cell_type": "markdown",
   "metadata": {},
   "source": [
    "The statistics shows that the time series is stationary as Test Statistic < Critical value but we can see an increasing trend in the data. So, firstly we will try to make the data more stationary. For doing so, we need to remove the trend and seasonality from the data."
   ]
  },
  {
   "cell_type": "markdown",
   "metadata": {},
   "source": [
    "#### **Removing Trend**\n",
    "A trend exists when there is a long-term increase or decrease in the data. It does not have to be linear.\n",
    "\n",
    "We see an increasing trend in the data so we can apply transformation which penalizes higher values more than smaller ones, for example log transformation.\n",
    "\n",
    "We will take rolling average here to remove the trend. We will take the window size of 24 based on the fact that each day has 24 hours."
   ]
  },
  {
   "cell_type": "code",
   "execution_count": null,
   "metadata": {},
   "outputs": [],
   "source": [
    "Train_log = np.log(Train['Count'])\n",
    "valid_log = np.log(valid['Count'])\n",
    "\n",
    "moving_avg = pd.core.window.Rolling(Train_log, 24).mean()\n",
    "plt.plot(Train_log)\n",
    "plt.plot(moving_avg, color = 'red')\n",
    "plt.show()"
   ]
  },
  {
   "cell_type": "markdown",
   "metadata": {},
   "source": [
    "So we can observe an increasing trend. Now we will remove this increasing trend to make our time series stationary."
   ]
  },
  {
   "cell_type": "code",
   "execution_count": null,
   "metadata": {},
   "outputs": [],
   "source": [
    "train_log_moving_avg_diff = Train_log - moving_avg"
   ]
  },
  {
   "cell_type": "code",
   "execution_count": null,
   "metadata": {},
   "outputs": [],
   "source": [
    "train_log_moving_avg_diff.dropna(inplace = True)\n",
    "test_stationarity(train_log_moving_avg_diff)"
   ]
  },
  {
   "cell_type": "markdown",
   "metadata": {},
   "source": [
    "We can see that the Test Statistic is very smaller as compared to the Critical Value. So, we can be confident that the trend is almost removed.\n",
    "\n",
    "Let’s now stabilize the mean of the time series which is also a requirement for a stationary time series.\n",
    "\n",
    "Differencing can help to make the series stable and eliminate the trend."
   ]
  },
  {
   "cell_type": "code",
   "execution_count": null,
   "metadata": {},
   "outputs": [],
   "source": [
    "train_log_diff = Train_log - Train_log.shift(1)\n",
    "test_stationarity(train_log_diff.dropna())"
   ]
  },
  {
   "cell_type": "markdown",
   "metadata": {},
   "source": [
    "Now we will decompose the time series into trend and seasonality and will get the residual which is the random variation in the series.\n",
    "\n",
    "Removing Seasonality: \n",
    "By seasonality, we mean periodic fluctuations. A seasonal pattern exists when a series is influenced by seasonal factors (e.g., the quarter of the year, the month, or day of the week).\n",
    "Seasonality is always of a fixed and known period.\n",
    "We will use seasonal decompose to decompose the time series into trend, seasonality and residuals.\n"
   ]
  },
  {
   "cell_type": "code",
   "execution_count": null,
   "metadata": {},
   "outputs": [],
   "source": [
    "from statsmodels.tsa.seasonal import seasonal_decompose\n",
    "decomposition = seasonal_decompose(pd.DataFrame(Train_log).Count.values, freq = 24)\n",
    "\n",
    "trend = decomposition.trend\n",
    "seasonal = decomposition.seasonal\n",
    "residual = decomposition.resid\n",
    "\n",
    "plt.subplot(411)\n",
    "plt.plot(Train_log, label='Original')\n",
    "plt.legend(loc='best')\n",
    "plt.subplot(412)\n",
    "plt.plot(trend, label='Trend')\n",
    "plt.legend(loc='best')\n",
    "plt.subplot(413)\n",
    "plt.plot(seasonal,label='Seasonality')\n",
    "plt.legend(loc='best')\n",
    "plt.subplot(414)\n",
    "plt.plot(residual, label='Residuals')\n",
    "plt.legend(loc='best')\n",
    "plt.tight_layout()\n",
    "plt.show()"
   ]
  },
  {
   "cell_type": "markdown",
   "metadata": {},
   "source": [
    "We can see the trend, residuals and the seasonality clearly in the above graph. Seasonality shows a constant trend in counter.\n",
    "\n",
    "Let’s check stationarity of residuals."
   ]
  },
  {
   "cell_type": "code",
   "execution_count": null,
   "metadata": {},
   "outputs": [],
   "source": [
    "train_log_decompose = pd.DataFrame(residual)\n",
    "train_log_decompose['date'] = Train_log.index\n",
    "train_log_decompose.set_index('date', inplace = True)\n",
    "train_log_decompose.dropna(inplace=True)\n",
    "test_stationarity(train_log_decompose[0])"
   ]
  },
  {
   "cell_type": "markdown",
   "metadata": {},
   "source": [
    "It can be interpreted from the results that the residuals are stationary.\n",
    "\n",
    "Now we will forecast the time series using different models.\n",
    "\n",
    "**Forecasting the time series using ARIMA**\n",
    "\n",
    "First of all we will fit the ARIMA model on our time series for that we have to find the optimized values for the p,d,q parameters.\n",
    "\n",
    "To find the optimized values of these parameters, we will use ACF(Autocorrelation Function) and PACF(Partial Autocorrelation Function) graph.\n",
    "\n",
    "- ACF is a measure of the correlation between the TimeSeries with a lagged version of itself.\n",
    "\n",
    "- PACF measures the correlation between the TimeSeries with a lagged version of itself but after eliminating the variations already explained by the intervening comparisons."
   ]
  },
  {
   "cell_type": "code",
   "execution_count": null,
   "metadata": {},
   "outputs": [],
   "source": [
    "from statsmodels.tsa.stattools import acf, pacf\n",
    "lag_acf = acf(train_log_diff.dropna(), nlags=25)\n",
    "lag_pacf = pacf(train_log_diff.dropna(), nlags=25, method='ols')"
   ]
  },
  {
   "cell_type": "markdown",
   "metadata": {},
   "source": [
    "#### ACF and PACF plot"
   ]
  },
  {
   "cell_type": "code",
   "execution_count": null,
   "metadata": {},
   "outputs": [],
   "source": [
    "plt.plot(lag_acf)\n",
    "plt.axhline(y=0,linestyle='--',color='gray')\n",
    "plt.axhline(y=-1.96/np.sqrt(len(train_log_diff.dropna())),linestyle='--',color='gray')\n",
    "plt.axhline(y=1.96/np.sqrt(len(train_log_diff.dropna())),linestyle='--',color='gray')\n",
    "plt.title('Autocorrelation Function')\n",
    "plt.show()\n",
    "plt.plot(lag_pacf)\n",
    "plt.axhline(y=0,linestyle='--',color='gray')\n",
    "plt.axhline(y=-1.96/np.sqrt(len(train_log_diff.dropna())),linestyle='--',color='gray')\n",
    "plt.axhline(y=1.96/np.sqrt(len(train_log_diff.dropna())),linestyle='--',color='gray')\n",
    "plt.title('Partial Autocorrelation Function')\n",
    "plt.show()\n"
   ]
  },
  {
   "cell_type": "markdown",
   "metadata": {},
   "source": [
    "- p value is the lag value where the PACF chart crosses the upper confidence interval for the first time. It can be noticed that in this case p=1.\n",
    "- q value is the lag value where the ACF chart crosses the upper confidence interval for the first time. It can be noticed that in this case q=1.\n",
    "\n",
    "Now we will make the ARIMA model as we have the p,q values. We will make the AR and MA model separately and then combine them together."
   ]
  },
  {
   "cell_type": "markdown",
   "metadata": {},
   "source": [
    "#### AR model\n",
    "The autoregressive model specifies that the output variable depends linearly on its own previous values."
   ]
  },
  {
   "cell_type": "code",
   "execution_count": null,
   "metadata": {},
   "outputs": [],
   "source": [
    "from statsmodels.tsa.arima_model import ARIMA\n",
    "model = ARIMA(Train_log, order=(2, 1, 0))  # here the q value is zero since it is just the AR model\n",
    "results_AR = model.fit(disp=-1)  \n",
    "plt.plot(train_log_diff.dropna(), label='original')\n",
    "plt.plot(results_AR.fittedvalues, color='red', label='predictions')\n",
    "plt.legend(loc='best')\n",
    "plt.show()"
   ]
  },
  {
   "cell_type": "markdown",
   "metadata": {},
   "source": [
    "Lets plot the validation curve for AR model.\n",
    "\n",
    "We have to change the scale of the model to the original scale.\n",
    "\n",
    "First step would be to store the predicted results as a separate series and observe it."
   ]
  },
  {
   "cell_type": "code",
   "execution_count": null,
   "metadata": {},
   "outputs": [],
   "source": [
    "AR_predict=results_AR.predict(start=\"2014-06-25\", end=\"2014-09-25\")\n",
    "AR_predict=AR_predict.cumsum().shift().fillna(0)\n",
    "AR_predict1=pd.Series(np.ones(valid.shape[0]) * np.log(valid['Count'])[0], index = valid.index)\n",
    "AR_predict1=AR_predict1.add(AR_predict,fill_value=0)\n",
    "AR_predict = np.exp(AR_predict1)"
   ]
  },
  {
   "cell_type": "code",
   "execution_count": null,
   "metadata": {},
   "outputs": [],
   "source": [
    "plt.plot(valid['Count'], label = \"Valid\")\n",
    "plt.plot(AR_predict, color = 'red', label = \"Predict\")\n",
    "plt.legend(loc= 'best')\n",
    "#plt.title('RMSE: %.4f'% (np.sqrt(np.dot(AR_predict, valid['Count']))/valid.shape[0]))\n",
    "plt.show()"
   ]
  },
  {
   "cell_type": "markdown",
   "metadata": {},
   "source": [
    "Here the red line shows the prediction for the validation set. Let’s build the MA model now."
   ]
  },
  {
   "cell_type": "markdown",
   "metadata": {},
   "source": [
    "#### MA model\n",
    "The moving-average model specifies that the output variable depends linearly on the current and various past values of a stochastic (imperfectly predictable) term."
   ]
  },
  {
   "cell_type": "code",
   "execution_count": null,
   "metadata": {},
   "outputs": [],
   "source": [
    "model = ARIMA(Train_log, order=(0, 1, 2))  # here the p value is zero since it is just the MA model\n",
    "results_MA = model.fit(disp=-1)  \n",
    "plt.plot(train_log_diff.dropna(), label='original')\n",
    "plt.plot(results_MA.fittedvalues, color='red', label='prediction')\n",
    "plt.legend(loc='best')\n",
    "plt.show()\n"
   ]
  },
  {
   "cell_type": "code",
   "execution_count": null,
   "metadata": {},
   "outputs": [],
   "source": [
    "MA_predict=results_MA.predict(start=\"2014-06-25\", end=\"2014-09-25\")\n",
    "MA_predict=MA_predict.cumsum().shift().fillna(0)\n",
    "MA_predict1=pd.Series(np.ones(valid.shape[0]) * np.log(valid['Count'])[0], index = valid.index)\n",
    "MA_predict1=MA_predict1.add(MA_predict,fill_value=0)\n",
    "MA_predict = np.exp(MA_predict1)"
   ]
  },
  {
   "cell_type": "code",
   "execution_count": null,
   "metadata": {},
   "outputs": [],
   "source": [
    "plt.plot(valid['Count'], label = \"Valid\")\n",
    "plt.plot(MA_predict, color = 'red', label = \"Predict\")\n",
    "plt.legend(loc= 'best')\n",
    "#plt.title('RMSE: %.4f'% (np.sqrt(np.dot(MA_predict, valid['Count']))/valid.shape[0]))\n",
    "plt.show()"
   ]
  },
  {
   "cell_type": "code",
   "execution_count": null,
   "metadata": {},
   "outputs": [],
   "source": [
    "#Combined model\n",
    "\n",
    "model = ARIMA(Train_log, order=(2, 1, 2))  \n",
    "results_ARIMA = model.fit(disp=-1)  \n",
    "plt.plot(train_log_diff.dropna(),  label='original')\n",
    "plt.plot(results_ARIMA.fittedvalues, color='red', label='predicted')\n",
    "plt.legend(loc='best')\n",
    "plt.show()"
   ]
  },
  {
   "cell_type": "markdown",
   "metadata": {},
   "source": [
    "Let’s define a function which can be used to change the scale of the model to the original scale."
   ]
  },
  {
   "cell_type": "code",
   "execution_count": null,
   "metadata": {},
   "outputs": [],
   "source": [
    "def check_prediction_diff(predict_diff, given_set):\n",
    "    predict_diff= predict_diff.cumsum().shift().fillna(0)\n",
    "    predict_base = pd.Series(np.ones(given_set.shape[0]) * np.log(given_set['Count'])[0], index = given_set.index)\n",
    "    predict_log = predict_base.add(predict_diff,fill_value=0)\n",
    "    predict = np.exp(predict_log)\n",
    "    \n",
    "    plt.plot(given_set['Count'], label = \"Given set\")\n",
    "    plt.plot(predict, color = 'red', label = \"Predict\")\n",
    "    plt.legend(loc= 'best')\n",
    "    plt.title('RMSE: %.4f'% (np.sqrt(np.dot(predict, given_set['Count']))/given_set.shape[0]))\n",
    "    plt.show()"
   ]
  },
  {
   "cell_type": "code",
   "execution_count": null,
   "metadata": {},
   "outputs": [],
   "source": [
    "def check_prediction_log(predict_log, given_set):\n",
    "    predict = np.exp(predict_log)\n",
    "    \n",
    "    plt.plot(given_set['Count'], label = \"Given set\")\n",
    "    plt.plot(predict, color = 'red', label = \"Predict\")\n",
    "    plt.legend(loc= 'best')\n",
    "    plt.title('RMSE: %.4f'% (np.sqrt(np.dot(predict, given_set['Count']))/given_set.shape[0]))\n",
    "    plt.show()"
   ]
  },
  {
   "cell_type": "markdown",
   "metadata": {},
   "source": [
    "Let’s predict the values for validation set."
   ]
  },
  {
   "cell_type": "code",
   "execution_count": null,
   "metadata": {},
   "outputs": [],
   "source": [
    "\n",
    "ARIMA_predict_diff=results_ARIMA.predict(start=\"2014-06-25\", end=\"2014-09-25\")"
   ]
  },
  {
   "cell_type": "code",
   "execution_count": null,
   "metadata": {},
   "outputs": [],
   "source": [
    "#check_prediction_diff(ARIMA_predict_diff, valid)"
   ]
  },
  {
   "cell_type": "markdown",
   "metadata": {},
   "source": [
    "### 7. SARIMAX MODEL ON DAILY TIME SERIES:\n",
    "SARIMAX model takes into account the seasonality of the time series. So we will build a SARIMAX model on the time series."
   ]
  },
  {
   "cell_type": "code",
   "execution_count": null,
   "metadata": {},
   "outputs": [],
   "source": [
    "import statsmodels.api as sm"
   ]
  },
  {
   "cell_type": "code",
   "execution_count": null,
   "metadata": {},
   "outputs": [],
   "source": [
    "y_hat_avg = valid.copy()\n",
    "\n",
    "fit1 = sm.tsa.statespace.SARIMAX(Train.Count, order=(2, 1, 4),seasonal_order=(0,1,1,7)).fit()\n",
    "\n",
    "y_hat_avg['SARIMA'] = fit1.predict(start=\"2014-6-25\", end=\"2014-9-25\", dynamic=True)\n",
    "\n",
    "\n",
    "plt.figure(figsize=(16,8))\n",
    "plt.plot( Train['Count'], label='Train')\n",
    "plt.plot(valid['Count'], label='Valid')\n",
    "plt.plot(y_hat_avg['SARIMA'], label='SARIMA')\n",
    "plt.legend(loc='best')\n",
    "plt.show()"
   ]
  },
  {
   "cell_type": "markdown",
   "metadata": {},
   "source": [
    "- Order in the above model represents the order of the autoregressive model(number of time lags), the degree of differencing(number of times the data have had past values subtracted) and the order of moving average model.\n",
    "\n",
    "- Seasonal order represents the order of the seasonal component of the model for the AR parameters, differences, MA parameters, and periodicity.\n",
    "\n",
    "In our case the periodicity is 7 since it is daily time series and will repeat after every 7 days.\n",
    "\n",
    "Let’s check the rmse value for the validation part."
   ]
  },
  {
   "cell_type": "code",
   "execution_count": null,
   "metadata": {},
   "outputs": [],
   "source": [
    "rms = sqrt(mean_squared_error(valid.Count, y_hat_avg.SARIMA))\n",
    "print(rms)"
   ]
  },
  {
   "cell_type": "markdown",
   "metadata": {},
   "source": [
    "Now we will forecast the time series for Test data which starts from 2014-9-26 and ends at 2015-4-26."
   ]
  },
  {
   "cell_type": "code",
   "execution_count": null,
   "metadata": {},
   "outputs": [],
   "source": [
    "predict=fit1.predict(start=\"2014-9-26\", end=\"2015-4-26\", dynamic=True)"
   ]
  },
  {
   "cell_type": "markdown",
   "metadata": {},
   "source": [
    "Note that these are the daily predictions and we need hourly predictions. So, we will distribute this daily prediction into hourly counts. To do so, we will take the ratio of hourly distribution of passenger count from train data and then we will distribute the predictions in the same ratio."
   ]
  },
  {
   "cell_type": "code",
   "execution_count": null,
   "metadata": {},
   "outputs": [],
   "source": [
    "test['prediction']=predict"
   ]
  },
  {
   "cell_type": "code",
   "execution_count": null,
   "metadata": {},
   "outputs": [],
   "source": [
    "# Merge Test and test_original on day, month and year\n",
    "merge=pd.merge(test, test_original, on=('Day','Month', 'Year'), how='left')\n",
    "merge['Hour']=merge['Hour_y']\n",
    "merge=merge.drop(['Year', 'Month', 'Datetime','Hour_x','Hour_y'], axis=1)\n",
    "\n",
    "# Predicting by merging merge and temp2\n",
    "prediction=pd.merge(merge, temp2, on='Hour', how='left')\n",
    "\n",
    "# Converting the ratio to the original scale\n",
    "prediction['Count']=prediction['prediction']*prediction['ratio']*24"
   ]
  },
  {
   "cell_type": "code",
   "execution_count": null,
   "metadata": {},
   "outputs": [],
   "source": [
    "print(test.head())\n",
    "print(prediction.head())\n",
    "plt.figure(figsize=(16,8))\n",
    "plt.plot(prediction['Count'], label='Count')\n",
    "plt.plot(prediction['prediction'], label='test predict')\n",
    "#plt.plot(y_hat_avg['SARIMA'], label='SARIMA')\n",
    "plt.legend(loc='best')\n",
    "plt.show()"
   ]
  },
  {
   "cell_type": "code",
   "execution_count": null,
   "metadata": {},
   "outputs": [],
   "source": [
    "#Let’s drop all variables other than ID and Count\n",
    "\n",
    "prediction['ID']=prediction['ID_y']\n",
    "submission=prediction.drop(['Day','Hour','ratio','prediction', 'ID_x', 'ID_y'],axis=1)\n",
    "\n",
    "# Converting the final submission to csv format\n",
    "pd.DataFrame(submission, columns=['ID','Count']).to_csv('SARIMAX.csv')"
   ]
  },
  {
   "cell_type": "code",
   "execution_count": null,
   "metadata": {},
   "outputs": [],
   "source": []
  },
  {
   "cell_type": "code",
   "execution_count": null,
   "metadata": {},
   "outputs": [],
   "source": []
  }
 ],
 "metadata": {
  "kernelspec": {
   "display_name": "Python 3",
   "language": "python",
   "name": "python3"
  },
  "language_info": {
   "codemirror_mode": {
    "name": "ipython",
    "version": 3
   },
   "file_extension": ".py",
   "mimetype": "text/x-python",
   "name": "python",
   "nbconvert_exporter": "python",
   "pygments_lexer": "ipython3",
   "version": "3.7.0"
  },
  "widgets": {
   "application/vnd.jupyter.widget-state+json": {
    "state": {},
    "version_major": 2,
    "version_minor": 0
   }
  }
 },
 "nbformat": 4,
 "nbformat_minor": 2
}
